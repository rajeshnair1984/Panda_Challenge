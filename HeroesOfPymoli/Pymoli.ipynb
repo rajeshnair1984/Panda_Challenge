{
 "cells": [
  {
   "cell_type": "code",
   "execution_count": 1,
   "metadata": {},
   "outputs": [],
   "source": [
    "import pandas as pd"
   ]
  },
  {
   "cell_type": "code",
   "execution_count": 2,
   "metadata": {},
   "outputs": [
    {
     "data": {
      "text/html": [
       "<div>\n",
       "<style scoped>\n",
       "    .dataframe tbody tr th:only-of-type {\n",
       "        vertical-align: middle;\n",
       "    }\n",
       "\n",
       "    .dataframe tbody tr th {\n",
       "        vertical-align: top;\n",
       "    }\n",
       "\n",
       "    .dataframe thead th {\n",
       "        text-align: right;\n",
       "    }\n",
       "</style>\n",
       "<table border=\"1\" class=\"dataframe\">\n",
       "  <thead>\n",
       "    <tr style=\"text-align: right;\">\n",
       "      <th></th>\n",
       "      <th>Purchase ID</th>\n",
       "      <th>SN</th>\n",
       "      <th>Age</th>\n",
       "      <th>Gender</th>\n",
       "      <th>Item ID</th>\n",
       "      <th>Item Name</th>\n",
       "      <th>Price</th>\n",
       "    </tr>\n",
       "  </thead>\n",
       "  <tbody>\n",
       "    <tr>\n",
       "      <th>0</th>\n",
       "      <td>0</td>\n",
       "      <td>Lisim78</td>\n",
       "      <td>20</td>\n",
       "      <td>Male</td>\n",
       "      <td>108</td>\n",
       "      <td>Extraction, Quickblade Of Trembling Hands</td>\n",
       "      <td>3.53</td>\n",
       "    </tr>\n",
       "    <tr>\n",
       "      <th>1</th>\n",
       "      <td>1</td>\n",
       "      <td>Lisovynya38</td>\n",
       "      <td>40</td>\n",
       "      <td>Male</td>\n",
       "      <td>143</td>\n",
       "      <td>Frenzied Scimitar</td>\n",
       "      <td>1.56</td>\n",
       "    </tr>\n",
       "    <tr>\n",
       "      <th>2</th>\n",
       "      <td>2</td>\n",
       "      <td>Ithergue48</td>\n",
       "      <td>24</td>\n",
       "      <td>Male</td>\n",
       "      <td>92</td>\n",
       "      <td>Final Critic</td>\n",
       "      <td>4.88</td>\n",
       "    </tr>\n",
       "    <tr>\n",
       "      <th>3</th>\n",
       "      <td>3</td>\n",
       "      <td>Chamassasya86</td>\n",
       "      <td>24</td>\n",
       "      <td>Male</td>\n",
       "      <td>100</td>\n",
       "      <td>Blindscythe</td>\n",
       "      <td>3.27</td>\n",
       "    </tr>\n",
       "    <tr>\n",
       "      <th>4</th>\n",
       "      <td>4</td>\n",
       "      <td>Iskosia90</td>\n",
       "      <td>23</td>\n",
       "      <td>Male</td>\n",
       "      <td>131</td>\n",
       "      <td>Fury</td>\n",
       "      <td>1.44</td>\n",
       "    </tr>\n",
       "  </tbody>\n",
       "</table>\n",
       "</div>"
      ],
      "text/plain": [
       "   Purchase ID             SN  Age Gender  Item ID  \\\n",
       "0            0        Lisim78   20   Male      108   \n",
       "1            1    Lisovynya38   40   Male      143   \n",
       "2            2     Ithergue48   24   Male       92   \n",
       "3            3  Chamassasya86   24   Male      100   \n",
       "4            4      Iskosia90   23   Male      131   \n",
       "\n",
       "                                   Item Name  Price  \n",
       "0  Extraction, Quickblade Of Trembling Hands   3.53  \n",
       "1                          Frenzied Scimitar   1.56  \n",
       "2                               Final Critic   4.88  \n",
       "3                                Blindscythe   3.27  \n",
       "4                                       Fury   1.44  "
      ]
     },
     "execution_count": 2,
     "metadata": {},
     "output_type": "execute_result"
    }
   ],
   "source": [
    "path = \"Resources/purchase_data.csv\"\n",
    "df = pd.read_csv(path)\n",
    "df.head()"
   ]
  },
  {
   "cell_type": "markdown",
   "metadata": {},
   "source": [
    "# Players Count"
   ]
  },
  {
   "cell_type": "code",
   "execution_count": 3,
   "metadata": {},
   "outputs": [
    {
     "data": {
      "text/html": [
       "<div>\n",
       "<style scoped>\n",
       "    .dataframe tbody tr th:only-of-type {\n",
       "        vertical-align: middle;\n",
       "    }\n",
       "\n",
       "    .dataframe tbody tr th {\n",
       "        vertical-align: top;\n",
       "    }\n",
       "\n",
       "    .dataframe thead th {\n",
       "        text-align: right;\n",
       "    }\n",
       "</style>\n",
       "<table border=\"1\" class=\"dataframe\">\n",
       "  <thead>\n",
       "    <tr style=\"text-align: right;\">\n",
       "      <th></th>\n",
       "      <th>Total Players</th>\n",
       "    </tr>\n",
       "  </thead>\n",
       "  <tbody>\n",
       "    <tr>\n",
       "      <th>0</th>\n",
       "      <td>576</td>\n",
       "    </tr>\n",
       "  </tbody>\n",
       "</table>\n",
       "</div>"
      ],
      "text/plain": [
       "   Total Players\n",
       "0            576"
      ]
     },
     "execution_count": 3,
     "metadata": {},
     "output_type": "execute_result"
    }
   ],
   "source": [
    "# Unique Player Count\n",
    "players = df.SN.unique()\n",
    "total_players = len(players)\n",
    "total_players\n",
    "total_players_df = {'Total Players':[total_players]}\n",
    "tot_players = pd.DataFrame(total_players_df, index = [0])\n",
    "tot_players"
   ]
  },
  {
   "cell_type": "markdown",
   "metadata": {},
   "source": [
    "# Purchasing Analysis (Total)"
   ]
  },
  {
   "cell_type": "code",
   "execution_count": 4,
   "metadata": {},
   "outputs": [
    {
     "data": {
      "text/html": [
       "<style  type=\"text/css\" >\n",
       "</style><table id=\"T_58f4db2e_984b_11eb_a38b_1cbfc090a2f4\" ><thead>    <tr>        <th class=\"blank level0\" ></th>        <th class=\"col_heading level0 col0\" >Number of Unique Itmes</th>        <th class=\"col_heading level0 col1\" >Average Price</th>        <th class=\"col_heading level0 col2\" >Number of Purchases</th>        <th class=\"col_heading level0 col3\" >Total Revenue</th>    </tr></thead><tbody>\n",
       "                <tr>\n",
       "                        <th id=\"T_58f4db2e_984b_11eb_a38b_1cbfc090a2f4level0_row0\" class=\"row_heading level0 row0\" >0</th>\n",
       "                        <td id=\"T_58f4db2e_984b_11eb_a38b_1cbfc090a2f4row0_col0\" class=\"data row0 col0\" >179</td>\n",
       "                        <td id=\"T_58f4db2e_984b_11eb_a38b_1cbfc090a2f4row0_col1\" class=\"data row0 col1\" >$3.05</td>\n",
       "                        <td id=\"T_58f4db2e_984b_11eb_a38b_1cbfc090a2f4row0_col2\" class=\"data row0 col2\" >780</td>\n",
       "                        <td id=\"T_58f4db2e_984b_11eb_a38b_1cbfc090a2f4row0_col3\" class=\"data row0 col3\" >$2,379.77</td>\n",
       "            </tr>\n",
       "    </tbody></table>"
      ],
      "text/plain": [
       "<pandas.io.formats.style.Styler at 0x216184fe550>"
      ]
     },
     "execution_count": 4,
     "metadata": {},
     "output_type": "execute_result"
    }
   ],
   "source": [
    "# Purchasing Analysis(Total)\n",
    "\n",
    "# Number of unique items\n",
    "unique_item = df[\"Item ID\"].unique()\n",
    "total_unique_item = len(unique_item)\n",
    "\n",
    "# Total number of purchases\n",
    "total_id = df[\"Purchase ID\"].count()\n",
    "\n",
    "# Total Revenue\n",
    "total_price = df[\"Price\"].sum()\n",
    "\n",
    "# Average Price\n",
    "average_df = df[\"Price\"].mean()\n",
    "\n",
    "# Adding summary table\n",
    "\n",
    "summary_df = {'Number of Unique Itmes':[total_unique_item],'Average Price':[average_df],\n",
    "             'Number of Purchases':[total_id],'Total Revenue':[total_price]}\n",
    "summary_df = pd.DataFrame(summary_df,index = [0])\n",
    "summary_df.style.format({\"Average Price\": \"${:,.2f}\",\"Total Revenue\": \"${:,.2f}\"})"
   ]
  },
  {
   "cell_type": "markdown",
   "metadata": {},
   "source": [
    "# Gender Demographics"
   ]
  },
  {
   "cell_type": "code",
   "execution_count": 5,
   "metadata": {},
   "outputs": [
    {
     "data": {
      "text/html": [
       "<style  type=\"text/css\" >\n",
       "</style><table id=\"T_58f894e9_984b_11eb_8a01_1cbfc090a2f4\" ><thead>    <tr>        <th class=\"blank level0\" ></th>        <th class=\"col_heading level0 col0\" >Total Count</th>        <th class=\"col_heading level0 col1\" >Percentage of Players</th>    </tr></thead><tbody>\n",
       "                <tr>\n",
       "                        <th id=\"T_58f894e9_984b_11eb_8a01_1cbfc090a2f4level0_row0\" class=\"row_heading level0 row0\" >Male</th>\n",
       "                        <td id=\"T_58f894e9_984b_11eb_8a01_1cbfc090a2f4row0_col0\" class=\"data row0 col0\" >484</td>\n",
       "                        <td id=\"T_58f894e9_984b_11eb_8a01_1cbfc090a2f4row0_col1\" class=\"data row0 col1\" >84.03%</td>\n",
       "            </tr>\n",
       "            <tr>\n",
       "                        <th id=\"T_58f894e9_984b_11eb_8a01_1cbfc090a2f4level0_row1\" class=\"row_heading level0 row1\" >Female</th>\n",
       "                        <td id=\"T_58f894e9_984b_11eb_8a01_1cbfc090a2f4row1_col0\" class=\"data row1 col0\" >81</td>\n",
       "                        <td id=\"T_58f894e9_984b_11eb_8a01_1cbfc090a2f4row1_col1\" class=\"data row1 col1\" >14.06%</td>\n",
       "            </tr>\n",
       "            <tr>\n",
       "                        <th id=\"T_58f894e9_984b_11eb_8a01_1cbfc090a2f4level0_row2\" class=\"row_heading level0 row2\" >Other / Non-Disclosed</th>\n",
       "                        <td id=\"T_58f894e9_984b_11eb_8a01_1cbfc090a2f4row2_col0\" class=\"data row2 col0\" >11</td>\n",
       "                        <td id=\"T_58f894e9_984b_11eb_8a01_1cbfc090a2f4row2_col1\" class=\"data row2 col1\" >1.91%</td>\n",
       "            </tr>\n",
       "    </tbody></table>"
      ],
      "text/plain": [
       "<pandas.io.formats.style.Styler at 0x2161964a8b0>"
      ]
     },
     "execution_count": 5,
     "metadata": {},
     "output_type": "execute_result"
    }
   ],
   "source": [
    "# Gender Demographics\n",
    "#Finding number of males\n",
    "male = df.loc[df[\"Gender\"] == \"Male\"]\n",
    "male\n",
    "unique_male = male[\"SN\"].unique()\n",
    "unique_males = len(unique_male)\n",
    "\n",
    "#Finding number of females\n",
    "female = df.loc[df[\"Gender\"] == \"Female\"]\n",
    "female\n",
    "unique_female = female[\"SN\"].unique()\n",
    "unique_females = len(unique_female)\n",
    "\n",
    "#Finding number of others\n",
    "other = df.loc[df[\"Gender\"] == \"Other / Non-Disclosed\"]\n",
    "other\n",
    "unique_other = other[\"SN\"].unique()\n",
    "unique_others = len(unique_other)\n",
    "\n",
    "Per_Male = (unique_males/total_players)*100\n",
    "# print(Per_Male)\n",
    "\n",
    "Per_Female = (unique_females/total_players)*100\n",
    "# print(Per_Female)\n",
    "\n",
    "Per_Others = (unique_others/total_players)*100\n",
    "# print(Per_Others)\n",
    "\n",
    "\n",
    "summary_gender_df = {\"Total Count\":[unique_males,unique_females,unique_others],\"Percentage of Players\":[Per_Male,Per_Female,Per_Others]}\n",
    "\n",
    "summary_gender_df = pd.DataFrame(summary_gender_df,index = [\"Male\",\"Female\",\"Other / Non-Disclosed\"])\n",
    "summary_gender_df\n",
    "summary_gender_df.style.format({\"Percentage of Players\": \"{:,.2f}%\"})\n",
    "\n"
   ]
  },
  {
   "cell_type": "markdown",
   "metadata": {},
   "source": [
    "# Purchasing Analysis (Gender)"
   ]
  },
  {
   "cell_type": "code",
   "execution_count": 6,
   "metadata": {},
   "outputs": [
    {
     "data": {
      "text/html": [
       "<style  type=\"text/css\" >\n",
       "</style><table id=\"T_58fadd33_984b_11eb_93a8_1cbfc090a2f4\" ><thead>    <tr>        <th class=\"blank level0\" ></th>        <th class=\"col_heading level0 col0\" >Purchase Count</th>        <th class=\"col_heading level0 col1\" >Average Purchase Price</th>        <th class=\"col_heading level0 col2\" >Total Purchase Value</th>        <th class=\"col_heading level0 col3\" >Avg Total Purchase per Person</th>    </tr>    <tr>        <th class=\"index_name level0\" >Gender</th>        <th class=\"blank\" ></th>        <th class=\"blank\" ></th>        <th class=\"blank\" ></th>        <th class=\"blank\" ></th>    </tr></thead><tbody>\n",
       "                <tr>\n",
       "                        <th id=\"T_58fadd33_984b_11eb_93a8_1cbfc090a2f4level0_row0\" class=\"row_heading level0 row0\" >Female</th>\n",
       "                        <td id=\"T_58fadd33_984b_11eb_93a8_1cbfc090a2f4row0_col0\" class=\"data row0 col0\" >113</td>\n",
       "                        <td id=\"T_58fadd33_984b_11eb_93a8_1cbfc090a2f4row0_col1\" class=\"data row0 col1\" >$3.20</td>\n",
       "                        <td id=\"T_58fadd33_984b_11eb_93a8_1cbfc090a2f4row0_col2\" class=\"data row0 col2\" >$361.94</td>\n",
       "                        <td id=\"T_58fadd33_984b_11eb_93a8_1cbfc090a2f4row0_col3\" class=\"data row0 col3\" >$4.47</td>\n",
       "            </tr>\n",
       "            <tr>\n",
       "                        <th id=\"T_58fadd33_984b_11eb_93a8_1cbfc090a2f4level0_row1\" class=\"row_heading level0 row1\" >Male</th>\n",
       "                        <td id=\"T_58fadd33_984b_11eb_93a8_1cbfc090a2f4row1_col0\" class=\"data row1 col0\" >652</td>\n",
       "                        <td id=\"T_58fadd33_984b_11eb_93a8_1cbfc090a2f4row1_col1\" class=\"data row1 col1\" >$3.02</td>\n",
       "                        <td id=\"T_58fadd33_984b_11eb_93a8_1cbfc090a2f4row1_col2\" class=\"data row1 col2\" >$1,967.64</td>\n",
       "                        <td id=\"T_58fadd33_984b_11eb_93a8_1cbfc090a2f4row1_col3\" class=\"data row1 col3\" >$4.07</td>\n",
       "            </tr>\n",
       "            <tr>\n",
       "                        <th id=\"T_58fadd33_984b_11eb_93a8_1cbfc090a2f4level0_row2\" class=\"row_heading level0 row2\" >Other / Non-Disclosed</th>\n",
       "                        <td id=\"T_58fadd33_984b_11eb_93a8_1cbfc090a2f4row2_col0\" class=\"data row2 col0\" >15</td>\n",
       "                        <td id=\"T_58fadd33_984b_11eb_93a8_1cbfc090a2f4row2_col1\" class=\"data row2 col1\" >$3.35</td>\n",
       "                        <td id=\"T_58fadd33_984b_11eb_93a8_1cbfc090a2f4row2_col2\" class=\"data row2 col2\" >$50.19</td>\n",
       "                        <td id=\"T_58fadd33_984b_11eb_93a8_1cbfc090a2f4row2_col3\" class=\"data row2 col3\" >$4.56</td>\n",
       "            </tr>\n",
       "    </tbody></table>"
      ],
      "text/plain": [
       "<pandas.io.formats.style.Styler at 0x2161964a0d0>"
      ]
     },
     "execution_count": 6,
     "metadata": {},
     "output_type": "execute_result"
    }
   ],
   "source": [
    "# Purchasing Analysis(Gender)\n",
    "df.head()\n",
    "group_gender = df.groupby([\"Gender\"])\n",
    "group_gender.count()\n",
    "gender_count = group_gender['Purchase ID'].count()\n",
    "gender_count\n",
    "average_purchase =group_gender['Price'].mean()\n",
    "average_purchase\n",
    "total_purchase = group_gender['Price'].sum()\n",
    "total_purchase\n",
    "summary_gender = {'Purchase Count':gender_count,'Average Purchase Price':average_purchase,\n",
    "                  'Total Purchase Value':total_purchase}\n",
    "summary_gender = pd.DataFrame(summary_gender)\n",
    "\n",
    "total = summary_gender['Total Purchase Value']\n",
    "summary_gender['Avg Total Purchase per Person'] = [summary_gender.iloc[0,2]/unique_females,\n",
    "                                                   summary_gender.iloc[1,2]/unique_males,\n",
    "                                                   summary_gender.iloc[2,2]/unique_others]\n",
    "summary_gender.style.format({\"Average Purchase Price\":\"${:,.2f}\",\"Total Purchase Value\":\"${:,.2f}\",\n",
    "                             \"Avg Total Purchase per Person\":\"${:,.2f}\"})\n"
   ]
  },
  {
   "cell_type": "markdown",
   "metadata": {},
   "source": [
    "# Age Demographics"
   ]
  },
  {
   "cell_type": "code",
   "execution_count": 7,
   "metadata": {},
   "outputs": [
    {
     "data": {
      "text/html": [
       "<style  type=\"text/css\" >\n",
       "</style><table id=\"T_58fef7e9_984b_11eb_a013_1cbfc090a2f4\" ><thead>    <tr>        <th class=\"blank level0\" ></th>        <th class=\"col_heading level0 col0\" >Total Count</th>        <th class=\"col_heading level0 col1\" >Percentage of Players</th>    </tr></thead><tbody>\n",
       "                <tr>\n",
       "                        <th id=\"T_58fef7e9_984b_11eb_a013_1cbfc090a2f4level0_row0\" class=\"row_heading level0 row0\" ><10</th>\n",
       "                        <td id=\"T_58fef7e9_984b_11eb_a013_1cbfc090a2f4row0_col0\" class=\"data row0 col0\" >17</td>\n",
       "                        <td id=\"T_58fef7e9_984b_11eb_a013_1cbfc090a2f4row0_col1\" class=\"data row0 col1\" >2.95%</td>\n",
       "            </tr>\n",
       "            <tr>\n",
       "                        <th id=\"T_58fef7e9_984b_11eb_a013_1cbfc090a2f4level0_row1\" class=\"row_heading level0 row1\" >10-14</th>\n",
       "                        <td id=\"T_58fef7e9_984b_11eb_a013_1cbfc090a2f4row1_col0\" class=\"data row1 col0\" >22</td>\n",
       "                        <td id=\"T_58fef7e9_984b_11eb_a013_1cbfc090a2f4row1_col1\" class=\"data row1 col1\" >3.82%</td>\n",
       "            </tr>\n",
       "            <tr>\n",
       "                        <th id=\"T_58fef7e9_984b_11eb_a013_1cbfc090a2f4level0_row2\" class=\"row_heading level0 row2\" >15-19</th>\n",
       "                        <td id=\"T_58fef7e9_984b_11eb_a013_1cbfc090a2f4row2_col0\" class=\"data row2 col0\" >107</td>\n",
       "                        <td id=\"T_58fef7e9_984b_11eb_a013_1cbfc090a2f4row2_col1\" class=\"data row2 col1\" >18.58%</td>\n",
       "            </tr>\n",
       "            <tr>\n",
       "                        <th id=\"T_58fef7e9_984b_11eb_a013_1cbfc090a2f4level0_row3\" class=\"row_heading level0 row3\" >20-24</th>\n",
       "                        <td id=\"T_58fef7e9_984b_11eb_a013_1cbfc090a2f4row3_col0\" class=\"data row3 col0\" >258</td>\n",
       "                        <td id=\"T_58fef7e9_984b_11eb_a013_1cbfc090a2f4row3_col1\" class=\"data row3 col1\" >44.79%</td>\n",
       "            </tr>\n",
       "            <tr>\n",
       "                        <th id=\"T_58fef7e9_984b_11eb_a013_1cbfc090a2f4level0_row4\" class=\"row_heading level0 row4\" >25-29</th>\n",
       "                        <td id=\"T_58fef7e9_984b_11eb_a013_1cbfc090a2f4row4_col0\" class=\"data row4 col0\" >77</td>\n",
       "                        <td id=\"T_58fef7e9_984b_11eb_a013_1cbfc090a2f4row4_col1\" class=\"data row4 col1\" >13.37%</td>\n",
       "            </tr>\n",
       "            <tr>\n",
       "                        <th id=\"T_58fef7e9_984b_11eb_a013_1cbfc090a2f4level0_row5\" class=\"row_heading level0 row5\" >30-34</th>\n",
       "                        <td id=\"T_58fef7e9_984b_11eb_a013_1cbfc090a2f4row5_col0\" class=\"data row5 col0\" >52</td>\n",
       "                        <td id=\"T_58fef7e9_984b_11eb_a013_1cbfc090a2f4row5_col1\" class=\"data row5 col1\" >9.03%</td>\n",
       "            </tr>\n",
       "            <tr>\n",
       "                        <th id=\"T_58fef7e9_984b_11eb_a013_1cbfc090a2f4level0_row6\" class=\"row_heading level0 row6\" >35-39</th>\n",
       "                        <td id=\"T_58fef7e9_984b_11eb_a013_1cbfc090a2f4row6_col0\" class=\"data row6 col0\" >31</td>\n",
       "                        <td id=\"T_58fef7e9_984b_11eb_a013_1cbfc090a2f4row6_col1\" class=\"data row6 col1\" >5.38%</td>\n",
       "            </tr>\n",
       "            <tr>\n",
       "                        <th id=\"T_58fef7e9_984b_11eb_a013_1cbfc090a2f4level0_row7\" class=\"row_heading level0 row7\" >40+</th>\n",
       "                        <td id=\"T_58fef7e9_984b_11eb_a013_1cbfc090a2f4row7_col0\" class=\"data row7 col0\" >12</td>\n",
       "                        <td id=\"T_58fef7e9_984b_11eb_a013_1cbfc090a2f4row7_col1\" class=\"data row7 col1\" >2.08%</td>\n",
       "            </tr>\n",
       "    </tbody></table>"
      ],
      "text/plain": [
       "<pandas.io.formats.style.Styler at 0x2161956a4f0>"
      ]
     },
     "execution_count": 7,
     "metadata": {},
     "output_type": "execute_result"
    }
   ],
   "source": [
    "# Age Demographics\n",
    "\n",
    "bin = [0,9,14,19,24,29,34,39,100]\n",
    "group = [\"<10\",\"10-14\",\"15-19\",\"20-24\",\"25-29\",\"30-34\",\"35-39\",\"40+\"]\n",
    "df[\"Age Ranges\"] = pd.cut(df[\"Age\"], bin, labels=group, include_lowest=False)\n",
    "df.head()\n",
    "\n",
    "\n",
    "unique = df.drop_duplicates(['SN'])\n",
    "unique\n",
    "player_count = unique['Age Ranges'].value_counts().sort_index()\n",
    "player_count\n",
    "\n",
    "player_percent = (player_count / player_count.sum())*100\n",
    "player_percent\n",
    "\n",
    "\n",
    "\n",
    "summary_agedemo = {\"Total Count\":player_count,\"Percentage of Players\":player_percent}\n",
    "summary_agedemo = pd.DataFrame(summary_agedemo)\n",
    "summary_agedemo\n",
    "\n",
    "summary_agedemo.style.format({\"Percentage of Players\": \"{:,.2f}%\"})\n",
    "\n"
   ]
  },
  {
   "cell_type": "markdown",
   "metadata": {},
   "source": [
    "# Purchasing Analysis (Age)"
   ]
  },
  {
   "cell_type": "code",
   "execution_count": 20,
   "metadata": {},
   "outputs": [
    {
     "data": {
      "text/html": [
       "<style  type=\"text/css\" >\n",
       "</style><table id=\"T_6bdae092_984d_11eb_a59f_1cbfc090a2f4\" ><thead>    <tr>        <th class=\"blank level0\" ></th>        <th class=\"col_heading level0 col0\" >Purchase Count</th>        <th class=\"col_heading level0 col1\" >Average Purchase Price</th>        <th class=\"col_heading level0 col2\" >Total Purchase Value</th>        <th class=\"col_heading level0 col3\" >Avg Total Purchase per Person</th>    </tr>    <tr>        <th class=\"index_name level0\" >Age Ranges</th>        <th class=\"blank\" ></th>        <th class=\"blank\" ></th>        <th class=\"blank\" ></th>        <th class=\"blank\" ></th>    </tr></thead><tbody>\n",
       "                <tr>\n",
       "                        <th id=\"T_6bdae092_984d_11eb_a59f_1cbfc090a2f4level0_row0\" class=\"row_heading level0 row0\" ><10</th>\n",
       "                        <td id=\"T_6bdae092_984d_11eb_a59f_1cbfc090a2f4row0_col0\" class=\"data row0 col0\" >23</td>\n",
       "                        <td id=\"T_6bdae092_984d_11eb_a59f_1cbfc090a2f4row0_col1\" class=\"data row0 col1\" >$3.35</td>\n",
       "                        <td id=\"T_6bdae092_984d_11eb_a59f_1cbfc090a2f4row0_col2\" class=\"data row0 col2\" >$77.13</td>\n",
       "                        <td id=\"T_6bdae092_984d_11eb_a59f_1cbfc090a2f4row0_col3\" class=\"data row0 col3\" >$4.54</td>\n",
       "            </tr>\n",
       "            <tr>\n",
       "                        <th id=\"T_6bdae092_984d_11eb_a59f_1cbfc090a2f4level0_row1\" class=\"row_heading level0 row1\" >10-14</th>\n",
       "                        <td id=\"T_6bdae092_984d_11eb_a59f_1cbfc090a2f4row1_col0\" class=\"data row1 col0\" >28</td>\n",
       "                        <td id=\"T_6bdae092_984d_11eb_a59f_1cbfc090a2f4row1_col1\" class=\"data row1 col1\" >$2.96</td>\n",
       "                        <td id=\"T_6bdae092_984d_11eb_a59f_1cbfc090a2f4row1_col2\" class=\"data row1 col2\" >$82.78</td>\n",
       "                        <td id=\"T_6bdae092_984d_11eb_a59f_1cbfc090a2f4row1_col3\" class=\"data row1 col3\" >$3.76</td>\n",
       "            </tr>\n",
       "            <tr>\n",
       "                        <th id=\"T_6bdae092_984d_11eb_a59f_1cbfc090a2f4level0_row2\" class=\"row_heading level0 row2\" >15-19</th>\n",
       "                        <td id=\"T_6bdae092_984d_11eb_a59f_1cbfc090a2f4row2_col0\" class=\"data row2 col0\" >136</td>\n",
       "                        <td id=\"T_6bdae092_984d_11eb_a59f_1cbfc090a2f4row2_col1\" class=\"data row2 col1\" >$3.04</td>\n",
       "                        <td id=\"T_6bdae092_984d_11eb_a59f_1cbfc090a2f4row2_col2\" class=\"data row2 col2\" >$412.89</td>\n",
       "                        <td id=\"T_6bdae092_984d_11eb_a59f_1cbfc090a2f4row2_col3\" class=\"data row2 col3\" >$3.86</td>\n",
       "            </tr>\n",
       "            <tr>\n",
       "                        <th id=\"T_6bdae092_984d_11eb_a59f_1cbfc090a2f4level0_row3\" class=\"row_heading level0 row3\" >20-24</th>\n",
       "                        <td id=\"T_6bdae092_984d_11eb_a59f_1cbfc090a2f4row3_col0\" class=\"data row3 col0\" >365</td>\n",
       "                        <td id=\"T_6bdae092_984d_11eb_a59f_1cbfc090a2f4row3_col1\" class=\"data row3 col1\" >$3.05</td>\n",
       "                        <td id=\"T_6bdae092_984d_11eb_a59f_1cbfc090a2f4row3_col2\" class=\"data row3 col2\" >$1,114.06</td>\n",
       "                        <td id=\"T_6bdae092_984d_11eb_a59f_1cbfc090a2f4row3_col3\" class=\"data row3 col3\" >$4.32</td>\n",
       "            </tr>\n",
       "            <tr>\n",
       "                        <th id=\"T_6bdae092_984d_11eb_a59f_1cbfc090a2f4level0_row4\" class=\"row_heading level0 row4\" >25-29</th>\n",
       "                        <td id=\"T_6bdae092_984d_11eb_a59f_1cbfc090a2f4row4_col0\" class=\"data row4 col0\" >101</td>\n",
       "                        <td id=\"T_6bdae092_984d_11eb_a59f_1cbfc090a2f4row4_col1\" class=\"data row4 col1\" >$2.90</td>\n",
       "                        <td id=\"T_6bdae092_984d_11eb_a59f_1cbfc090a2f4row4_col2\" class=\"data row4 col2\" >$293.00</td>\n",
       "                        <td id=\"T_6bdae092_984d_11eb_a59f_1cbfc090a2f4row4_col3\" class=\"data row4 col3\" >$3.81</td>\n",
       "            </tr>\n",
       "            <tr>\n",
       "                        <th id=\"T_6bdae092_984d_11eb_a59f_1cbfc090a2f4level0_row5\" class=\"row_heading level0 row5\" >30-34</th>\n",
       "                        <td id=\"T_6bdae092_984d_11eb_a59f_1cbfc090a2f4row5_col0\" class=\"data row5 col0\" >73</td>\n",
       "                        <td id=\"T_6bdae092_984d_11eb_a59f_1cbfc090a2f4row5_col1\" class=\"data row5 col1\" >$2.93</td>\n",
       "                        <td id=\"T_6bdae092_984d_11eb_a59f_1cbfc090a2f4row5_col2\" class=\"data row5 col2\" >$214.00</td>\n",
       "                        <td id=\"T_6bdae092_984d_11eb_a59f_1cbfc090a2f4row5_col3\" class=\"data row5 col3\" >$4.12</td>\n",
       "            </tr>\n",
       "            <tr>\n",
       "                        <th id=\"T_6bdae092_984d_11eb_a59f_1cbfc090a2f4level0_row6\" class=\"row_heading level0 row6\" >35-39</th>\n",
       "                        <td id=\"T_6bdae092_984d_11eb_a59f_1cbfc090a2f4row6_col0\" class=\"data row6 col0\" >41</td>\n",
       "                        <td id=\"T_6bdae092_984d_11eb_a59f_1cbfc090a2f4row6_col1\" class=\"data row6 col1\" >$3.60</td>\n",
       "                        <td id=\"T_6bdae092_984d_11eb_a59f_1cbfc090a2f4row6_col2\" class=\"data row6 col2\" >$147.67</td>\n",
       "                        <td id=\"T_6bdae092_984d_11eb_a59f_1cbfc090a2f4row6_col3\" class=\"data row6 col3\" >$4.76</td>\n",
       "            </tr>\n",
       "            <tr>\n",
       "                        <th id=\"T_6bdae092_984d_11eb_a59f_1cbfc090a2f4level0_row7\" class=\"row_heading level0 row7\" >40+</th>\n",
       "                        <td id=\"T_6bdae092_984d_11eb_a59f_1cbfc090a2f4row7_col0\" class=\"data row7 col0\" >13</td>\n",
       "                        <td id=\"T_6bdae092_984d_11eb_a59f_1cbfc090a2f4row7_col1\" class=\"data row7 col1\" >$2.94</td>\n",
       "                        <td id=\"T_6bdae092_984d_11eb_a59f_1cbfc090a2f4row7_col2\" class=\"data row7 col2\" >$38.24</td>\n",
       "                        <td id=\"T_6bdae092_984d_11eb_a59f_1cbfc090a2f4row7_col3\" class=\"data row7 col3\" >$3.19</td>\n",
       "            </tr>\n",
       "    </tbody></table>"
      ],
      "text/plain": [
       "<pandas.io.formats.style.Styler at 0x216184fee50>"
      ]
     },
     "execution_count": 20,
     "metadata": {},
     "output_type": "execute_result"
    }
   ],
   "source": [
    "# Purchasing Analysis\n",
    "bin = [0,9,14,19,24,29,34,39,100]\n",
    "group = [\"<10\",\"10-14\",\"15-19\",\"20-24\",\"25-29\",\"30-34\",\"35-39\",\"40+\"]\n",
    "df[\"Age Ranges\"] = pd.cut(df[\"Age\"], bin, labels=group, include_lowest=False)\n",
    "df.head()\n",
    "\n",
    "group_range = df.groupby(['Age Ranges'])\n",
    "\n",
    "range_count = group_range['Purchase ID'].count()\n",
    "range_count\n",
    "range_price = group_range['Price'].sum()\n",
    "range_price\n",
    "range_average = group_range['Price'].mean()\n",
    "range_average\n",
    "range_total_average = group_range['Price'].sum() / player_count\n",
    "range_total_average\n",
    "summary_ranges = {'Purchase Count':range_count,'Average Purchase Price':range_average,\n",
    "                  'Total Purchase Value':range_price,'Avg Total Purchase per Person':range_total_average}\n",
    "summary_ranges = pd.DataFrame(summary_ranges)\n",
    "summary_ranges\n",
    "summary_ranges.style.format({\"Average Purchase Price\":\"${:,.2f}\",\"Total Purchase Value\":\"${:,.2f}\",\n",
    "                             \"Avg Total Purchase per Person\":\"${:,.2f}\"})"
   ]
  },
  {
   "cell_type": "markdown",
   "metadata": {},
   "source": [
    "# Top Spender"
   ]
  },
  {
   "cell_type": "code",
   "execution_count": 21,
   "metadata": {},
   "outputs": [
    {
     "data": {
      "text/html": [
       "<style  type=\"text/css\" >\n",
       "</style><table id=\"T_70468b57_984d_11eb_8786_1cbfc090a2f4\" ><thead>    <tr>        <th class=\"blank level0\" ></th>        <th class=\"col_heading level0 col0\" >Purchase Count</th>        <th class=\"col_heading level0 col1\" >Average Purchase Price</th>        <th class=\"col_heading level0 col2\" >Total Purchase Value</th>    </tr>    <tr>        <th class=\"index_name level0\" >SN</th>        <th class=\"blank\" ></th>        <th class=\"blank\" ></th>        <th class=\"blank\" ></th>    </tr></thead><tbody>\n",
       "                <tr>\n",
       "                        <th id=\"T_70468b57_984d_11eb_8786_1cbfc090a2f4level0_row0\" class=\"row_heading level0 row0\" >Lisosia93</th>\n",
       "                        <td id=\"T_70468b57_984d_11eb_8786_1cbfc090a2f4row0_col0\" class=\"data row0 col0\" >5</td>\n",
       "                        <td id=\"T_70468b57_984d_11eb_8786_1cbfc090a2f4row0_col1\" class=\"data row0 col1\" >$3.79</td>\n",
       "                        <td id=\"T_70468b57_984d_11eb_8786_1cbfc090a2f4row0_col2\" class=\"data row0 col2\" >$18.96</td>\n",
       "            </tr>\n",
       "            <tr>\n",
       "                        <th id=\"T_70468b57_984d_11eb_8786_1cbfc090a2f4level0_row1\" class=\"row_heading level0 row1\" >Idastidru52</th>\n",
       "                        <td id=\"T_70468b57_984d_11eb_8786_1cbfc090a2f4row1_col0\" class=\"data row1 col0\" >4</td>\n",
       "                        <td id=\"T_70468b57_984d_11eb_8786_1cbfc090a2f4row1_col1\" class=\"data row1 col1\" >$3.86</td>\n",
       "                        <td id=\"T_70468b57_984d_11eb_8786_1cbfc090a2f4row1_col2\" class=\"data row1 col2\" >$15.45</td>\n",
       "            </tr>\n",
       "            <tr>\n",
       "                        <th id=\"T_70468b57_984d_11eb_8786_1cbfc090a2f4level0_row2\" class=\"row_heading level0 row2\" >Chamjask73</th>\n",
       "                        <td id=\"T_70468b57_984d_11eb_8786_1cbfc090a2f4row2_col0\" class=\"data row2 col0\" >3</td>\n",
       "                        <td id=\"T_70468b57_984d_11eb_8786_1cbfc090a2f4row2_col1\" class=\"data row2 col1\" >$4.61</td>\n",
       "                        <td id=\"T_70468b57_984d_11eb_8786_1cbfc090a2f4row2_col2\" class=\"data row2 col2\" >$13.83</td>\n",
       "            </tr>\n",
       "            <tr>\n",
       "                        <th id=\"T_70468b57_984d_11eb_8786_1cbfc090a2f4level0_row3\" class=\"row_heading level0 row3\" >Iral74</th>\n",
       "                        <td id=\"T_70468b57_984d_11eb_8786_1cbfc090a2f4row3_col0\" class=\"data row3 col0\" >4</td>\n",
       "                        <td id=\"T_70468b57_984d_11eb_8786_1cbfc090a2f4row3_col1\" class=\"data row3 col1\" >$3.40</td>\n",
       "                        <td id=\"T_70468b57_984d_11eb_8786_1cbfc090a2f4row3_col2\" class=\"data row3 col2\" >$13.62</td>\n",
       "            </tr>\n",
       "            <tr>\n",
       "                        <th id=\"T_70468b57_984d_11eb_8786_1cbfc090a2f4level0_row4\" class=\"row_heading level0 row4\" >Iskadarya95</th>\n",
       "                        <td id=\"T_70468b57_984d_11eb_8786_1cbfc090a2f4row4_col0\" class=\"data row4 col0\" >3</td>\n",
       "                        <td id=\"T_70468b57_984d_11eb_8786_1cbfc090a2f4row4_col1\" class=\"data row4 col1\" >$4.37</td>\n",
       "                        <td id=\"T_70468b57_984d_11eb_8786_1cbfc090a2f4row4_col2\" class=\"data row4 col2\" >$13.10</td>\n",
       "            </tr>\n",
       "    </tbody></table>"
      ],
      "text/plain": [
       "<pandas.io.formats.style.Styler at 0x216196fb250>"
      ]
     },
     "execution_count": 21,
     "metadata": {},
     "output_type": "execute_result"
    }
   ],
   "source": [
    "# Top Spenders\n",
    "df.head()\n",
    "group_sn = df.groupby([\"SN\"])\n",
    "group_sn_counts = group_sn[\"Purchase ID\"].count()\n",
    "group_sn_counts\n",
    "total_purchase = group_sn[\"Price\"].sum()\n",
    "total_purchase\n",
    "average = group_sn[\"Price\"].mean()\n",
    "average\n",
    "summary_topspender = pd.DataFrame({\"Purchase Count\":group_sn_counts,\"Average Purchase Price\":average,\"Total Purchase Value\":total_purchase})\n",
    "summary_topspender\n",
    "summary_sort_topspender = summary_topspender.sort_values(\"Total Purchase Value\", ascending=False)\n",
    "\n",
    "summary_sort_topspender\n",
    "summary_sort_topspender.head().style.format({\"Average Purchase Price\":\"${:.2f}\",\"Total Purchase Value\":\"${:.2f}\"})"
   ]
  },
  {
   "cell_type": "markdown",
   "metadata": {},
   "source": [
    "# Most Popular Items"
   ]
  },
  {
   "cell_type": "code",
   "execution_count": 22,
   "metadata": {},
   "outputs": [
    {
     "data": {
      "text/html": [
       "<style  type=\"text/css\" >\n",
       "</style><table id=\"T_7534394a_984d_11eb_9a81_1cbfc090a2f4\" ><thead>    <tr>        <th class=\"blank\" ></th>        <th class=\"blank level0\" ></th>        <th class=\"col_heading level0 col0\" >Purchase Count</th>        <th class=\"col_heading level0 col1\" >Item Price</th>        <th class=\"col_heading level0 col2\" >Total Purchase Value</th>    </tr>    <tr>        <th class=\"index_name level0\" >Item ID</th>        <th class=\"index_name level1\" >Item Name</th>        <th class=\"blank\" ></th>        <th class=\"blank\" ></th>        <th class=\"blank\" ></th>    </tr></thead><tbody>\n",
       "                <tr>\n",
       "                        <th id=\"T_7534394a_984d_11eb_9a81_1cbfc090a2f4level0_row0\" class=\"row_heading level0 row0\" >92</th>\n",
       "                        <th id=\"T_7534394a_984d_11eb_9a81_1cbfc090a2f4level1_row0\" class=\"row_heading level1 row0\" >Final Critic</th>\n",
       "                        <td id=\"T_7534394a_984d_11eb_9a81_1cbfc090a2f4row0_col0\" class=\"data row0 col0\" >13</td>\n",
       "                        <td id=\"T_7534394a_984d_11eb_9a81_1cbfc090a2f4row0_col1\" class=\"data row0 col1\" >$4.61</td>\n",
       "                        <td id=\"T_7534394a_984d_11eb_9a81_1cbfc090a2f4row0_col2\" class=\"data row0 col2\" >$59.99</td>\n",
       "            </tr>\n",
       "            <tr>\n",
       "                        <th id=\"T_7534394a_984d_11eb_9a81_1cbfc090a2f4level0_row1\" class=\"row_heading level0 row1\" >178</th>\n",
       "                        <th id=\"T_7534394a_984d_11eb_9a81_1cbfc090a2f4level1_row1\" class=\"row_heading level1 row1\" >Oathbreaker, Last Hope of the Breaking Storm</th>\n",
       "                        <td id=\"T_7534394a_984d_11eb_9a81_1cbfc090a2f4row1_col0\" class=\"data row1 col0\" >12</td>\n",
       "                        <td id=\"T_7534394a_984d_11eb_9a81_1cbfc090a2f4row1_col1\" class=\"data row1 col1\" >$4.23</td>\n",
       "                        <td id=\"T_7534394a_984d_11eb_9a81_1cbfc090a2f4row1_col2\" class=\"data row1 col2\" >$50.76</td>\n",
       "            </tr>\n",
       "            <tr>\n",
       "                        <th id=\"T_7534394a_984d_11eb_9a81_1cbfc090a2f4level0_row2\" class=\"row_heading level0 row2\" >145</th>\n",
       "                        <th id=\"T_7534394a_984d_11eb_9a81_1cbfc090a2f4level1_row2\" class=\"row_heading level1 row2\" >Fiery Glass Crusader</th>\n",
       "                        <td id=\"T_7534394a_984d_11eb_9a81_1cbfc090a2f4row2_col0\" class=\"data row2 col0\" >9</td>\n",
       "                        <td id=\"T_7534394a_984d_11eb_9a81_1cbfc090a2f4row2_col1\" class=\"data row2 col1\" >$4.58</td>\n",
       "                        <td id=\"T_7534394a_984d_11eb_9a81_1cbfc090a2f4row2_col2\" class=\"data row2 col2\" >$41.22</td>\n",
       "            </tr>\n",
       "            <tr>\n",
       "                        <th id=\"T_7534394a_984d_11eb_9a81_1cbfc090a2f4level0_row3\" class=\"row_heading level0 row3\" >132</th>\n",
       "                        <th id=\"T_7534394a_984d_11eb_9a81_1cbfc090a2f4level1_row3\" class=\"row_heading level1 row3\" >Persuasion</th>\n",
       "                        <td id=\"T_7534394a_984d_11eb_9a81_1cbfc090a2f4row3_col0\" class=\"data row3 col0\" >9</td>\n",
       "                        <td id=\"T_7534394a_984d_11eb_9a81_1cbfc090a2f4row3_col1\" class=\"data row3 col1\" >$3.22</td>\n",
       "                        <td id=\"T_7534394a_984d_11eb_9a81_1cbfc090a2f4row3_col2\" class=\"data row3 col2\" >$28.99</td>\n",
       "            </tr>\n",
       "            <tr>\n",
       "                        <th id=\"T_7534394a_984d_11eb_9a81_1cbfc090a2f4level0_row4\" class=\"row_heading level0 row4\" >108</th>\n",
       "                        <th id=\"T_7534394a_984d_11eb_9a81_1cbfc090a2f4level1_row4\" class=\"row_heading level1 row4\" >Extraction, Quickblade Of Trembling Hands</th>\n",
       "                        <td id=\"T_7534394a_984d_11eb_9a81_1cbfc090a2f4row4_col0\" class=\"data row4 col0\" >9</td>\n",
       "                        <td id=\"T_7534394a_984d_11eb_9a81_1cbfc090a2f4row4_col1\" class=\"data row4 col1\" >$3.53</td>\n",
       "                        <td id=\"T_7534394a_984d_11eb_9a81_1cbfc090a2f4row4_col2\" class=\"data row4 col2\" >$31.77</td>\n",
       "            </tr>\n",
       "    </tbody></table>"
      ],
      "text/plain": [
       "<pandas.io.formats.style.Styler at 0x216184feac0>"
      ]
     },
     "execution_count": 22,
     "metadata": {},
     "output_type": "execute_result"
    }
   ],
   "source": [
    "# Most Popular item\n",
    "total_item = df.groupby([\"Item ID\",\"Item Name\"])\n",
    "pur_count = total_item[\"Purchase ID\"].count()\n",
    "pur_count\n",
    "purchase_value = total_item[\"Price\"].sum()\n",
    "purchase_value\n",
    "item_price = total_item[\"Price\"].mean()\n",
    "\n",
    "summary_mostpop = pd.DataFrame({\"Purchase Count\":pur_count,\"Item Price\":item_price,\"Total Purchase Value\":purchase_value})\n",
    "summary_mostpop\n",
    "summary_sort_mostpop = summary_mostpop.sort_values(\"Purchase Count\", ascending=False)\n",
    "summary_sort_mostpop.head().style.format({\"Item Price\":\"${:.2f}\",\"Total Purchase Value\":\"${:.2f}\"})\n"
   ]
  },
  {
   "cell_type": "markdown",
   "metadata": {},
   "source": [
    "# Most Profitable Items"
   ]
  },
  {
   "cell_type": "code",
   "execution_count": 23,
   "metadata": {},
   "outputs": [
    {
     "data": {
      "text/html": [
       "<style  type=\"text/css\" >\n",
       "</style><table id=\"T_75faa0c1_984d_11eb_812c_1cbfc090a2f4\" ><thead>    <tr>        <th class=\"blank\" ></th>        <th class=\"blank level0\" ></th>        <th class=\"col_heading level0 col0\" >Purchase Count</th>        <th class=\"col_heading level0 col1\" >Item Price</th>        <th class=\"col_heading level0 col2\" >Total Purchase Value</th>    </tr>    <tr>        <th class=\"index_name level0\" >Item ID</th>        <th class=\"index_name level1\" >Item Name</th>        <th class=\"blank\" ></th>        <th class=\"blank\" ></th>        <th class=\"blank\" ></th>    </tr></thead><tbody>\n",
       "                <tr>\n",
       "                        <th id=\"T_75faa0c1_984d_11eb_812c_1cbfc090a2f4level0_row0\" class=\"row_heading level0 row0\" >92</th>\n",
       "                        <th id=\"T_75faa0c1_984d_11eb_812c_1cbfc090a2f4level1_row0\" class=\"row_heading level1 row0\" >Final Critic</th>\n",
       "                        <td id=\"T_75faa0c1_984d_11eb_812c_1cbfc090a2f4row0_col0\" class=\"data row0 col0\" >13</td>\n",
       "                        <td id=\"T_75faa0c1_984d_11eb_812c_1cbfc090a2f4row0_col1\" class=\"data row0 col1\" >$4.61</td>\n",
       "                        <td id=\"T_75faa0c1_984d_11eb_812c_1cbfc090a2f4row0_col2\" class=\"data row0 col2\" >$59.99</td>\n",
       "            </tr>\n",
       "            <tr>\n",
       "                        <th id=\"T_75faa0c1_984d_11eb_812c_1cbfc090a2f4level0_row1\" class=\"row_heading level0 row1\" >178</th>\n",
       "                        <th id=\"T_75faa0c1_984d_11eb_812c_1cbfc090a2f4level1_row1\" class=\"row_heading level1 row1\" >Oathbreaker, Last Hope of the Breaking Storm</th>\n",
       "                        <td id=\"T_75faa0c1_984d_11eb_812c_1cbfc090a2f4row1_col0\" class=\"data row1 col0\" >12</td>\n",
       "                        <td id=\"T_75faa0c1_984d_11eb_812c_1cbfc090a2f4row1_col1\" class=\"data row1 col1\" >$4.23</td>\n",
       "                        <td id=\"T_75faa0c1_984d_11eb_812c_1cbfc090a2f4row1_col2\" class=\"data row1 col2\" >$50.76</td>\n",
       "            </tr>\n",
       "            <tr>\n",
       "                        <th id=\"T_75faa0c1_984d_11eb_812c_1cbfc090a2f4level0_row2\" class=\"row_heading level0 row2\" >82</th>\n",
       "                        <th id=\"T_75faa0c1_984d_11eb_812c_1cbfc090a2f4level1_row2\" class=\"row_heading level1 row2\" >Nirvana</th>\n",
       "                        <td id=\"T_75faa0c1_984d_11eb_812c_1cbfc090a2f4row2_col0\" class=\"data row2 col0\" >9</td>\n",
       "                        <td id=\"T_75faa0c1_984d_11eb_812c_1cbfc090a2f4row2_col1\" class=\"data row2 col1\" >$4.90</td>\n",
       "                        <td id=\"T_75faa0c1_984d_11eb_812c_1cbfc090a2f4row2_col2\" class=\"data row2 col2\" >$44.10</td>\n",
       "            </tr>\n",
       "            <tr>\n",
       "                        <th id=\"T_75faa0c1_984d_11eb_812c_1cbfc090a2f4level0_row3\" class=\"row_heading level0 row3\" >145</th>\n",
       "                        <th id=\"T_75faa0c1_984d_11eb_812c_1cbfc090a2f4level1_row3\" class=\"row_heading level1 row3\" >Fiery Glass Crusader</th>\n",
       "                        <td id=\"T_75faa0c1_984d_11eb_812c_1cbfc090a2f4row3_col0\" class=\"data row3 col0\" >9</td>\n",
       "                        <td id=\"T_75faa0c1_984d_11eb_812c_1cbfc090a2f4row3_col1\" class=\"data row3 col1\" >$4.58</td>\n",
       "                        <td id=\"T_75faa0c1_984d_11eb_812c_1cbfc090a2f4row3_col2\" class=\"data row3 col2\" >$41.22</td>\n",
       "            </tr>\n",
       "            <tr>\n",
       "                        <th id=\"T_75faa0c1_984d_11eb_812c_1cbfc090a2f4level0_row4\" class=\"row_heading level0 row4\" >103</th>\n",
       "                        <th id=\"T_75faa0c1_984d_11eb_812c_1cbfc090a2f4level1_row4\" class=\"row_heading level1 row4\" >Singed Scalpel</th>\n",
       "                        <td id=\"T_75faa0c1_984d_11eb_812c_1cbfc090a2f4row4_col0\" class=\"data row4 col0\" >8</td>\n",
       "                        <td id=\"T_75faa0c1_984d_11eb_812c_1cbfc090a2f4row4_col1\" class=\"data row4 col1\" >$4.35</td>\n",
       "                        <td id=\"T_75faa0c1_984d_11eb_812c_1cbfc090a2f4row4_col2\" class=\"data row4 col2\" >$34.80</td>\n",
       "            </tr>\n",
       "    </tbody></table>"
      ],
      "text/plain": [
       "<pandas.io.formats.style.Styler at 0x216196fb340>"
      ]
     },
     "execution_count": 23,
     "metadata": {},
     "output_type": "execute_result"
    }
   ],
   "source": [
    "# Most Profitable Item\n",
    "summary_sort_mostpop = summary_mostpop.sort_values(\"Total Purchase Value\", ascending=False)\n",
    "summary_sort_mostpop\n",
    "summary_sort_mostpop.head().style.format({\"Item Price\":\"${:.2f}\",\"Total Purchase Value\":\"${:.2f}\"})\n"
   ]
  },
  {
   "cell_type": "markdown",
   "metadata": {},
   "source": [
    "# Three Observable Trends\n",
    "\n",
    "1 Percentage of Male players dominates the game with 84.03% of the total 780 players.\n",
    "\n",
    "2 Maximum purchase are done by players between age group 20 - 24 almost 44.79% and everyother age group is less than 20%.\n",
    "\n",
    "3 Most popular and profitable are the same game \"Final Critic\" with a purchase count of 13.\n",
    "\n",
    "4 Top 5 contributers generate almost 10% of the total revenue.\n"
   ]
  },
  {
   "cell_type": "code",
   "execution_count": null,
   "metadata": {},
   "outputs": [],
   "source": []
  }
 ],
 "metadata": {
  "kernelspec": {
   "display_name": "Python 3",
   "language": "python",
   "name": "python3"
  },
  "language_info": {
   "codemirror_mode": {
    "name": "ipython",
    "version": 3
   },
   "file_extension": ".py",
   "mimetype": "text/x-python",
   "name": "python",
   "nbconvert_exporter": "python",
   "pygments_lexer": "ipython3",
   "version": "3.8.5"
  }
 },
 "nbformat": 4,
 "nbformat_minor": 4
}
